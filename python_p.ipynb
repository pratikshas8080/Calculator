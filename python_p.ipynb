{
  "nbformat": 4,
  "nbformat_minor": 0,
  "metadata": {
    "colab": {
      "name": "python_p.ipynb",
      "provenance": [],
      "authorship_tag": "ABX9TyMr38lvh2I66wOlCywF79rS",
      "include_colab_link": true
    },
    "kernelspec": {
      "name": "python3",
      "display_name": "Python 3"
    }
  },
  "cells": [
    {
      "cell_type": "markdown",
      "metadata": {
        "id": "view-in-github",
        "colab_type": "text"
      },
      "source": [
        "<a href=\"https://colab.research.google.com/github/pratikshas8080/Calculator/blob/master/python_p.ipynb\" target=\"_parent\"><img src=\"https://colab.research.google.com/assets/colab-badge.svg\" alt=\"Open In Colab\"/></a>"
      ]
    },
    {
      "cell_type": "code",
      "metadata": {
        "id": "v0bCm229UTh8",
        "colab_type": "code",
        "colab": {
          "base_uri": "https://localhost:8080/",
          "height": 34
        },
        "outputId": "4a4f7945-516d-45d4-e0fc-340edba3fe07"
      },
      "source": [
        "print (\"Hello Pratu\")"
      ],
      "execution_count": 1,
      "outputs": [
        {
          "output_type": "stream",
          "text": [
            "Hello Pratu\n"
          ],
          "name": "stdout"
        }
      ]
    },
    {
      "cell_type": "markdown",
      "metadata": {
        "id": "6m3ne9bcUdDi",
        "colab_type": "text"
      },
      "source": [
        "Introduction to python\n"
      ]
    },
    {
      "cell_type": "code",
      "metadata": {
        "id": "qEx2OFVDUsTO",
        "colab_type": "code",
        "colab": {
          "base_uri": "https://localhost:8080/",
          "height": 34
        },
        "outputId": "7f42173a-03f0-46f1-ae11-f2180609efd1"
      },
      "source": [
        "print (2 + 3)"
      ],
      "execution_count": 3,
      "outputs": [
        {
          "output_type": "stream",
          "text": [
            "5\n"
          ],
          "name": "stdout"
        }
      ]
    },
    {
      "cell_type": "markdown",
      "metadata": {
        "id": "8aGHH3RYVtV0",
        "colab_type": "text"
      },
      "source": [
        "Function create and call also"
      ]
    },
    {
      "cell_type": "code",
      "metadata": {
        "id": "8x5-40YpVHPD",
        "colab_type": "code",
        "colab": {
          "base_uri": "https://localhost:8080/",
          "height": 51
        },
        "outputId": "704010ea-1662-481e-8eeb-fb4db4493e5c"
      },
      "source": [
        "def Hello():\n",
        "  print(\"hello\")\n",
        "  print(\"Computer is a fun\")\n",
        "Hello()"
      ],
      "execution_count": 7,
      "outputs": [
        {
          "output_type": "stream",
          "text": [
            "hello\n",
            "Computer is a fun\n"
          ],
          "name": "stdout"
        }
      ]
    },
    {
      "cell_type": "code",
      "metadata": {
        "id": "AZ3UR8oJV4bs",
        "colab_type": "code",
        "colab": {
          "base_uri": "https://localhost:8080/",
          "height": 51
        },
        "outputId": "f28b42c3-e066-48cf-aef8-5ac809e23d2e"
      },
      "source": [
        "def greet(person):\n",
        "  print (\"Hello\",person)\n",
        "  print (\"How are you?\")\n",
        "greet(\"pratu\")"
      ],
      "execution_count": 13,
      "outputs": [
        {
          "output_type": "stream",
          "text": [
            "Hello pratu\n",
            "How are you?\n"
          ],
          "name": "stdout"
        }
      ]
    }
  ]
}