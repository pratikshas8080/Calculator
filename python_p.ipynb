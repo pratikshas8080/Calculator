{
  "nbformat": 4,
  "nbformat_minor": 0,
  "metadata": {
    "colab": {
      "name": "python_p.ipynb",
      "provenance": [],
      "collapsed_sections": [],
      "authorship_tag": "ABX9TyPiswk3Cgp89tcLWfo8XwgN",
      "include_colab_link": true
    },
    "kernelspec": {
      "name": "python3",
      "display_name": "Python 3"
    }
  },
  "cells": [
    {
      "cell_type": "markdown",
      "metadata": {
        "id": "view-in-github",
        "colab_type": "text"
      },
      "source": [
        "<a href=\"https://colab.research.google.com/github/pratikshas8080/Calculator/blob/master/python_p.ipynb\" target=\"_parent\"><img src=\"https://colab.research.google.com/assets/colab-badge.svg\" alt=\"Open In Colab\"/></a>"
      ]
    },
    {
      "cell_type": "code",
      "metadata": {
        "id": "v0bCm229UTh8",
        "colab_type": "code",
        "colab": {
          "base_uri": "https://localhost:8080/",
          "height": 34
        },
        "outputId": "4a4f7945-516d-45d4-e0fc-340edba3fe07"
      },
      "source": [
        "  print (\"Hello Pratu\")"
      ],
      "execution_count": null,
      "outputs": [
        {
          "output_type": "stream",
          "text": [
            "Hello Pratu\n"
          ],
          "name": "stdout"
        }
      ]
    },
    {
      "cell_type": "markdown",
      "metadata": {
        "id": "6m3ne9bcUdDi",
        "colab_type": "text"
      },
      "source": [
        "Introduction to python\n"
      ]
    },
    {
      "cell_type": "code",
      "metadata": {
        "id": "qEx2OFVDUsTO",
        "colab_type": "code",
        "colab": {
          "base_uri": "https://localhost:8080/",
          "height": 34
        },
        "outputId": "7f42173a-03f0-46f1-ae11-f2180609efd1"
      },
      "source": [
        "print (2 + 3)"
      ],
      "execution_count": null,
      "outputs": [
        {
          "output_type": "stream",
          "text": [
            "5\n"
          ],
          "name": "stdout"
        }
      ]
    },
    {
      "cell_type": "markdown",
      "metadata": {
        "id": "8aGHH3RYVtV0",
        "colab_type": "text"
      },
      "source": [
        "Function create and call also"
      ]
    },
    {
      "cell_type": "code",
      "metadata": {
        "id": "8x5-40YpVHPD",
        "colab_type": "code",
        "colab": {
          "base_uri": "https://localhost:8080/",
          "height": 51
        },
        "outputId": "704010ea-1662-481e-8eeb-fb4db4493e5c"
      },
      "source": [
        "def Hello():\n",
        "  print(\"hello\")\n",
        "  print(\"Computer is a fun\")\n",
        "Hello()"
      ],
      "execution_count": null,
      "outputs": [
        {
          "output_type": "stream",
          "text": [
            "hello\n",
            "Computer is a fun\n"
          ],
          "name": "stdout"
        }
      ]
    },
    {
      "cell_type": "code",
      "metadata": {
        "id": "AZ3UR8oJV4bs",
        "colab_type": "code",
        "colab": {
          "base_uri": "https://localhost:8080/",
          "height": 51
        },
        "outputId": "f28b42c3-e066-48cf-aef8-5ac809e23d2e"
      },
      "source": [
        "def greet(person):\n",
        "  print (\"Hello\",person)\n",
        "  print (\"How are you?\")\n",
        "greet(\"pratu\")"
      ],
      "execution_count": null,
      "outputs": [
        {
          "output_type": "stream",
          "text": [
            "Hello pratu\n",
            "How are you?\n"
          ],
          "name": "stdout"
        }
      ]
    },
    {
      "cell_type": "code",
      "metadata": {
        "id": "dgahMFpVYxQl",
        "colab_type": "code",
        "colab": {
          "base_uri": "https://localhost:8080/",
          "height": 51
        },
        "outputId": "5414e246-22c7-443b-d3f7-8779b75f06ed"
      },
      "source": [
        "x=5\n",
        "print(x)\n",
        "m=x+5\n",
        "print(m)"
      ],
      "execution_count": null,
      "outputs": [
        {
          "output_type": "stream",
          "text": [
            "5\n",
            "10\n"
          ],
          "name": "stdout"
        }
      ]
    },
    {
      "cell_type": "code",
      "metadata": {
        "id": "ScYEHM7JO_gg",
        "colab_type": "code",
        "colab": {
          "base_uri": "https://localhost:8080/",
          "height": 51
        },
        "outputId": "7090bb01-3797-4593-b40f-44bf1a846dfc"
      },
      "source": [
        "x=int(input(\"Enter a number  0 and 1\"))\n",
        "print(x)"
      ],
      "execution_count": null,
      "outputs": [
        {
          "output_type": "stream",
          "text": [
            "Enter a number  0 and 120\n",
            "20\n"
          ],
          "name": "stdout"
        }
      ]
    },
    {
      "cell_type": "code",
      "metadata": {
        "id": "Bp-1km7wRejj",
        "colab_type": "code",
        "colab": {
          "base_uri": "https://localhost:8080/",
          "height": 278
        },
        "outputId": "f9b35ed1-da37-42d9-9389-b4705b18de1c"
      },
      "source": [
        "for i in [0,1,2,3]:\n",
        "  print (i)\n",
        "\n",
        "for odd in [1,3,5,7,9]:\n",
        "  k=odd*odd\n",
        "  print(k)\n",
        "\n",
        "for i in [0,2,4,6,8,10]:\n",
        "  m=i+i\n",
        "  print(i)"
      ],
      "execution_count": null,
      "outputs": [
        {
          "output_type": "stream",
          "text": [
            "0\n",
            "1\n",
            "2\n",
            "3\n",
            "1\n",
            "9\n",
            "25\n",
            "49\n",
            "81\n",
            "0\n",
            "2\n",
            "4\n",
            "6\n",
            "8\n",
            "10\n"
          ],
          "name": "stdout"
        }
      ]
    },
    {
      "cell_type": "code",
      "metadata": {
        "id": "whayN4_8TYo4",
        "colab_type": "code",
        "colab": {
          "base_uri": "https://localhost:8080/",
          "height": 243
        },
        "outputId": "9421cfd8-23fa-4273-e56b-53f3b6db244a"
      },
      "source": [
        "#we fing the principle amount using this program\n",
        "def main():\n",
        "  print(\"show the 10 years of intrest\")\n",
        "  principle=int(input(\"enter initial principle\"))\n",
        "  apr=int(input(\"Enter the annual intrest rate\"))\n",
        "\n",
        "  for i in range(10):\n",
        "    principle=principle * (1+apr)\n",
        "    print(\"The value of 10 years is\", principle)\n",
        "\n",
        "main()"
      ],
      "execution_count": null,
      "outputs": [
        {
          "output_type": "stream",
          "text": [
            "show the 10 years of intrest\n",
            "enter initial principle10\n",
            "Enter the annual intrest rate2\n",
            "The value of 10 years is 30\n",
            "The value of 10 years is 90\n",
            "The value of 10 years is 270\n",
            "The value of 10 years is 810\n",
            "The value of 10 years is 2430\n",
            "The value of 10 years is 7290\n",
            "The value of 10 years is 21870\n",
            "The value of 10 years is 65610\n",
            "The value of 10 years is 196830\n",
            "The value of 10 years is 590490\n"
          ],
          "name": "stdout"
        }
      ]
    },
    {
      "cell_type": "code",
      "metadata": {
        "id": "ed7IzVwPX8Ow",
        "colab_type": "code",
        "colab": {
          "base_uri": "https://localhost:8080/",
          "height": 34
        },
        "outputId": "00e68053-1279-4f95-afad-8b2ffc377d39"
      },
      "source": [
        "#finding type of input\n",
        "type(3)\n",
        "type(3.1)\n",
        "type(-30)\n",
        "type(\"Pratu\")"
      ],
      "execution_count": null,
      "outputs": [
        {
          "output_type": "execute_result",
          "data": {
            "text/plain": [
              "str"
            ]
          },
          "metadata": {
            "tags": []
          },
          "execution_count": 32
        }
      ]
    },
    {
      "cell_type": "code",
      "metadata": {
        "id": "295CMuWAYlcm",
        "colab_type": "code",
        "colab": {
          "base_uri": "https://localhost:8080/",
          "height": 138
        },
        "outputId": "3ad6d336-7619-4816-d14b-cfb11dd9d781"
      },
      "source": [
        "#basic calcution in daily uses \n",
        "print(3.0+4.0)\n",
        "print(3+4)\n",
        "print(10.0/8)\n",
        "print(10/3)\n",
        "print(abs(10))\n",
        "print(abs(-60.88))\n",
        "print(50-70-555/2)"
      ],
      "execution_count": null,
      "outputs": [
        {
          "output_type": "stream",
          "text": [
            "7.0\n",
            "7\n",
            "1.25\n",
            "3.3333333333333335\n",
            "10\n",
            "60.88\n",
            "-297.5\n"
          ],
          "name": "stdout"
        }
      ]
    },
    {
      "cell_type": "code",
      "metadata": {
        "id": "jXnQtdWBZg4V",
        "colab_type": "code",
        "colab": {}
      },
      "source": [
        "import math\n",
        "\n",
        "def main():\n",
        "  print(\"This is coffecient finding\")\n",
        "\n",
        "  a,b,c=input(\"Enter of the coffecient(a,b,c):)\"\n",
        "  discRoot=math.sqrt(b * b - 4 * a * c)\n",
        "\n",
        "  root1=(-b + discRoot)/ (2*a)\n",
        "  root2=(-b - discRoot)/ (2*a)\n",
        "\n",
        "  print(\"The solution are\",root1,roo2)\n",
        "\n",
        "maint()"
      ],
      "execution_count": null,
      "outputs": []
    },
    {
      "cell_type": "code",
      "metadata": {
        "id": "uuS76GD_d7ON",
        "colab_type": "code",
        "colab": {
          "base_uri": "https://localhost:8080/",
          "height": 104
        },
        "outputId": "ba2dc474-a6c7-48ac-f93e-5c9d37eb8466"
      },
      "source": [
        "#finding a factor of any number\n",
        "fact=1\n",
        "for factor in [2,3,4,5,6]:\n",
        "  fact=fact*factor\n",
        "  print(fact)"
      ],
      "execution_count": null,
      "outputs": [
        {
          "output_type": "stream",
          "text": [
            "2\n",
            "6\n",
            "24\n",
            "120\n",
            "720\n"
          ],
          "name": "stdout"
        }
      ]
    },
    {
      "cell_type": "code",
      "metadata": {
        "id": "WeqPUr6Feycv",
        "colab_type": "code",
        "colab": {
          "base_uri": "https://localhost:8080/",
          "height": 69
        },
        "outputId": "f9a4c934-5055-44a1-a833-df4ea79195d0"
      },
      "source": [
        "#use range\n",
        "print(range(10))\n",
        "print(range(5,10))\n",
        "print(range(5,10,3))"
      ],
      "execution_count": null,
      "outputs": [
        {
          "output_type": "stream",
          "text": [
            "range(0, 10)\n",
            "range(5, 10)\n"
          ],
          "name": "stdout"
        },
        {
          "output_type": "execute_result",
          "data": {
            "text/plain": [
              "range(5, 10, 3)"
            ]
          },
          "metadata": {
            "tags": []
          },
          "execution_count": 54
        }
      ]
    },
    {
      "cell_type": "code",
      "metadata": {
        "id": "HL61hBBbfsLB",
        "colab_type": "code",
        "colab": {
          "base_uri": "https://localhost:8080/",
          "height": 51
        },
        "outputId": "60542ab9-99b9-4817-e435-d4fef7a9dd5a"
      },
      "source": [
        "#factorial program \n",
        "def main():\n",
        "  n=int(input(\"Please enter a whole number\"))\n",
        "  fact=1\n",
        "\n",
        "  for factor in range (n,1,-1):\n",
        "    fact=fact * factor\n",
        "  print(\"The factorial of\",n,\"is\",fact)\n",
        "\n",
        "main()\n"
      ],
      "execution_count": null,
      "outputs": [
        {
          "output_type": "stream",
          "text": [
            "Please enter a whole number2\n",
            "The factorial of 2 is 2\n"
          ],
          "name": "stdout"
        }
      ]
    },
    {
      "cell_type": "code",
      "metadata": {
        "id": "eUMDjfztgq4P",
        "colab_type": "code",
        "colab": {
          "base_uri": "https://localhost:8080/",
          "height": 86
        },
        "outputId": "3c7028a4-783f-408a-ef46-0dac1824390d"
      },
      "source": [
        "#limits of int \n",
        "print(2 ** 30)\n",
        "print(2 ** 31)\n",
        "print(2 ** 31-1)\n",
        "print(2 ** 31 - 1 + 2 ** 30)"
      ],
      "execution_count": null,
      "outputs": [
        {
          "output_type": "stream",
          "text": [
            "1073741824\n",
            "2147483648\n",
            "2147483647\n",
            "3221225471\n"
          ],
          "name": "stdout"
        }
      ]
    },
    {
      "cell_type": "code",
      "metadata": {
        "id": "HSye9w_AsBRv",
        "colab_type": "code",
        "colab": {
          "base_uri": "https://localhost:8080/",
          "height": 34
        },
        "outputId": "19fc84a3-2083-4e6e-b678-968c9b594a21"
      },
      "source": [
        "int(4.5)\n",
        "float(int(3.9))\n",
        "int(float(3.3))"
      ],
      "execution_count": 67,
      "outputs": [
        {
          "output_type": "execute_result",
          "data": {
            "text/plain": [
              "3"
            ]
          },
          "metadata": {
            "tags": []
          },
          "execution_count": 67
        }
      ]
    },
    {
      "cell_type": "code",
      "metadata": {
        "id": "lBVkFtlxt1Zx",
        "colab_type": "code",
        "colab": {
          "base_uri": "https://localhost:8080/",
          "height": 34
        },
        "outputId": "2d7ed50d-5b2f-418e-9fd1-8280fde9b0c1"
      },
      "source": [
        "#round function\n",
        "round(3.14)\n",
        "round(3.15)\n",
        "round(-3.14)\n",
        "int(round(-3.14))"
      ],
      "execution_count": 71,
      "outputs": [
        {
          "output_type": "execute_result",
          "data": {
            "text/plain": [
              "-3"
            ]
          },
          "metadata": {
            "tags": []
          },
          "execution_count": 71
        }
      ]
    },
    {
      "cell_type": "code",
      "metadata": {
        "id": "46azFlIyumFJ",
        "colab_type": "code",
        "colab": {
          "base_uri": "https://localhost:8080/",
          "height": 105
        },
        "outputId": "e1993b62-773d-458b-d133-dbb49afc4524"
      },
      "source": [
        "#string convertion \n",
        "s1=\"pratiksha\"\n",
        "s2=\"sawandkar\"\n",
        "print(s1+s2)\n",
        "s3=s1 + \" \" + s2\n",
        "print(s3)\n",
        "\n",
        "#Get Input \n",
        "firstname=input(\"Enter a First name:\")\n",
        "print(\"Hello\",firstname)\n",
        "\n",
        "#acess index Positive index\n",
        "grret=\"pratu\"\n",
        "grret[0]\n",
        "grret[0], grret[2], grret[1]\n",
        "#acess index negative index\n",
        "grret[-1]\n",
        "grret[0:3]\n",
        "grret[:4]\n",
        "grret[:]"
      ],
      "execution_count": 84,
      "outputs": [
        {
          "output_type": "stream",
          "text": [
            "pratikshasawandkar\n",
            "pratiksha sawandkar\n",
            "Enter a First name:pratu\n",
            "Hello pratu\n"
          ],
          "name": "stdout"
        },
        {
          "output_type": "execute_result",
          "data": {
            "application/vnd.google.colaboratory.intrinsic+json": {
              "type": "string"
            },
            "text/plain": [
              "'pratu'"
            ]
          },
          "metadata": {
            "tags": []
          },
          "execution_count": 84
        }
      ]
    },
    {
      "cell_type": "code",
      "metadata": {
        "id": "bbeiJ-MlxhFt",
        "colab_type": "code",
        "colab": {
          "base_uri": "https://localhost:8080/",
          "height": 138
        },
        "outputId": "7996d45d-4b21-48b9-c145-74507508a1bc"
      },
      "source": [
        "#some various opertions in string \n",
        "\"Pratu\" + \"chiuuuu\"\n",
        "p1=\"chiuuuu\"\n",
        "p2=3*p1\n",
        "print(p2)\n",
        "len(\"Pratiksha\")\n",
        "\n",
        "for ch in \"Pratu!\":\n",
        "  print (ch)"
      ],
      "execution_count": 93,
      "outputs": [
        {
          "output_type": "stream",
          "text": [
            "chiuuuuchiuuuuchiuuuu\n",
            "P\n",
            "r\n",
            "a\n",
            "t\n",
            "u\n",
            "!\n"
          ],
          "name": "stdout"
        }
      ]
    }
  ]
}